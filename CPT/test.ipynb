{
 "cells": [
  {
   "cell_type": "code",
   "execution_count": 1,
   "metadata": {},
   "outputs": [],
   "source": [
    "from recast import CPT\n",
    "import numpy as np\n"
   ]
  },
  {
   "cell_type": "markdown",
   "metadata": {},
   "source": [
    "# Croatian site "
   ]
  },
  {
   "cell_type": "code",
   "execution_count": null,
   "metadata": {},
   "outputs": [],
   "source": [
    "# Sibenik\n",
    "layout = CPT()\n",
    "layout.MESH_EXTENT = 3500 # m\n",
    "layout.AVERAGE_RANGE = 4000\n",
    "layout.set_path('/Users/niva/Desktop/recast-test', \n",
    "                path_type = 'output')\n",
    "\n",
    "# setting path to the landcover data \n",
    "layout.set_path('/Volumes/Secondary_Drive/work/projects/campaign-planning-tool/data/input/landcover/g100_clc12_V18_5.tif', \n",
    "                path_type = 'landcover')\n",
    "\n",
    "layout.set_utm_zone('33T')\n",
    "layout.MAX_ELEVATION_ANGLE = 7\n",
    "\n",
    "points = np.array([\n",
    "[576697.34, 4845753, 395 + 80],\n",
    "[576968, 4845595, 439 + 80],\n",
    "[577215, 4845425, 423 + 80],\n",
    "[577439, 4845219, 430 + 80],\n",
    "[577752, 4845005, 446 + 80],\n",
    "[577979, 4844819, 478 + 80],\n",
    "[578400, 4844449, 453 + 80],\n",
    "[578658, 4844287, 450 + 80],\n",
    "[578838, 4844034, 430 + 80],\n",
    "[578974, 4843842, 417 + 80],\n",
    "[579121, 4844186, 413 + 80],\n",
    "[579246, 4843915, 410 + 80]\n",
    "])\n",
    "\n",
    "layout.add_measurement_instances(points = points, points_id = 'initial')\n",
    "layout.generate_mesh()\n"
   ]
  },
  {
   "cell_type": "code",
   "execution_count": 3,
   "metadata": {},
   "outputs": [
    {
     "name": "stdout",
     "output_type": "stream",
     "text": [
      "Measurement points not added to the dictionary because:\n",
      "- UTM zone is not set\n",
      "- points_id is not in kwargs\n",
      "- points_id is not in self.POINTS_TYPE\n",
      "- points is not in kwargs\n"
     ]
    }
   ],
   "source": [
    "layout = CPT()\n",
    "layout.add_measurement_instances()"
   ]
  },
  {
   "cell_type": "code",
   "execution_count": null,
   "metadata": {},
   "outputs": [],
   "source": []
  },
  {
   "cell_type": "code",
   "execution_count": null,
   "metadata": {},
   "outputs": [],
   "source": [
    "layout.optimize_measurements(points_id = 'initial')"
   ]
  },
  {
   "cell_type": "code",
   "execution_count": null,
   "metadata": {},
   "outputs": [],
   "source": [
    "layout.plot_optimization()"
   ]
  },
  {
   "cell_type": "code",
   "execution_count": null,
   "metadata": {},
   "outputs": [],
   "source": [
    "layout.measurements_dictionary['top']"
   ]
  },
  {
   "cell_type": "code",
   "execution_count": null,
   "metadata": {},
   "outputs": [],
   "source": [
    "layout.measurements_dictionary['initial']. is not None"
   ]
  },
  {
   "cell_type": "code",
   "execution_count": null,
   "metadata": {},
   "outputs": [],
   "source": []
  },
  {
   "cell_type": "code",
   "execution_count": null,
   "metadata": {},
   "outputs": [],
   "source": [
    "layout.plot_layer(layer_id = 'combined', \n",
    "                  title = 'Lidar placement map')"
   ]
  },
  {
   "cell_type": "code",
   "execution_count": null,
   "metadata": {},
   "outputs": [],
   "source": [
    "layout.add_lidar_instance(position = np.array([578000, 4847688, 179]),\n",
    "                          lidar_id = 'brise')"
   ]
  },
  {
   "cell_type": "code",
   "execution_count": null,
   "metadata": {},
   "outputs": [],
   "source": [
    "layout.generate_second_lidar_layer(lidar_id = 'brise')"
   ]
  },
  {
   "cell_type": "code",
   "execution_count": null,
   "metadata": {},
   "outputs": [],
   "source": [
    "layout.plot_layer(layer_id = 'second_lidar_placement', \n",
    "                  title = 'Lidar placement map')"
   ]
  },
  {
   "cell_type": "code",
   "execution_count": null,
   "metadata": {},
   "outputs": [],
   "source": [
    "layout.add_lidar_instance(position = np.array([580460, 4846018, 220]), \n",
    "                          lidar_id = 'sirocco')     "
   ]
  },
  {
   "cell_type": "code",
   "execution_count": null,
   "metadata": {},
   "outputs": [],
   "source": [
    "layout.update_lidar_instance(lidar_id = 'sirocco', \n",
    "                             points_id = 'initial', \n",
    "                             layer_id = 'second_lidar_placement')"
   ]
  }
 ],
 "metadata": {
  "kernelspec": {
   "display_name": "Python 3",
   "language": "python",
   "name": "python3"
  },
  "language_info": {
   "codemirror_mode": {
    "name": "ipython",
    "version": 3
   },
   "file_extension": ".py",
   "mimetype": "text/x-python",
   "name": "python",
   "nbconvert_exporter": "python",
   "pygments_lexer": "ipython3",
   "version": "3.6.5"
  }
 },
 "nbformat": 4,
 "nbformat_minor": 2
}
