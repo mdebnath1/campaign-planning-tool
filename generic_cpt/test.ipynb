{
 "cells": [
  {
   "cell_type": "code",
   "execution_count": 1,
   "metadata": {},
   "outputs": [],
   "source": [
    "from recast.CPT import CPT\n",
    "import numpy as np\n",
    "import matplotlib.pyplot as plt\n",
    "import matplotlib.colors as mcolors\n",
    "import pandas as pd"
   ]
  },
  {
   "cell_type": "markdown",
   "metadata": {},
   "source": [
    "# Croatian site "
   ]
  },
  {
   "cell_type": "code",
   "execution_count": 21,
   "metadata": {},
   "outputs": [
    {
     "name": "stdout",
     "output_type": "stream",
     "text": [
      "Correct latitudinal zone!\n",
      "Correct longitudinal zone!\n",
      "UTM zone set\n",
      "Adding initial measurement points!\n",
      "Measurement points 'misc' added to the measurements dictionary!\n",
      "Measurements dictionary contains 1 different measurement type(s).\n"
     ]
    }
   ],
   "source": [
    "# Sibenik\n",
    "layout = CPT()\n",
    "layout.MESH_EXTENT = 3500\n",
    "layout.AVERAGE_RANGE = 4000\n",
    "layout.LANDCOVER_DATA_PATH = '/Volumes/Secondary_Drive/work/projects/campaign-planning-tool/data/input/landcover/g100_clc12_V18_5.tif'\n",
    "layout.OUTPUT_DATA_PATH = '/Volumes/Secondary_Drive/work/projects/campaign-planning-tool/data/output/'\n",
    "layout.set_utm_zone('33T')\n",
    "layout.MAX_ELEVATION_ANGLE = 7\n",
    "points = np.array([\n",
    "[576697, 4845753, 395 + 80],\n",
    "[576968, 4845595, 439 + 80],\n",
    "[577215, 4845425, 423 + 80],\n",
    "[577439, 4845219, 430 + 80],\n",
    "[577752, 4845005, 446 + 80],\n",
    "[577979, 4844819, 478 + 80],\n",
    "[578400, 4844449, 453 + 80],\n",
    "[578658, 4844287, 450 + 80],\n",
    "[578838, 4844034, 430 + 80],\n",
    "[578974, 4843842, 417 + 80],\n",
    "[579121, 4844186, 413 + 80],\n",
    "[579246, 4843915, 410 + 80]\n",
    "])\n",
    "\n",
    "\n",
    "\n",
    "\n",
    "layout.add_measurements(measurements = np.array([[579246, 4843915, 410 + 80]]), points_type = 'initial')\n",
    "layout.add_measurement_instances(points = points, points_type = 'misc')"
   ]
  },
  {
   "cell_type": "code",
   "execution_count": 19,
   "metadata": {},
   "outputs": [
    {
     "data": {
      "text/plain": [
       "{'initial':     Point no.  Easting [m]  Northing [m]  Height asl [m]\n",
       " 0           1       576697       4845753             475\n",
       " 1           2       576968       4845595             519\n",
       " 2           3       577215       4845425             503\n",
       " 3           4       577439       4845219             510\n",
       " 4           5       577752       4845005             526\n",
       " 5           6       577979       4844819             558\n",
       " 6           7       578400       4844449             533\n",
       " 7           8       578658       4844287             530\n",
       " 8           9       578838       4844034             510\n",
       " 9          10       578974       4843842             497\n",
       " 10         11       579121       4844186             493\n",
       " 11         12       579246       4843915             490}"
      ]
     },
     "execution_count": 19,
     "metadata": {},
     "output_type": "execute_result"
    }
   ],
   "source": [
    "layout.measurements_dictionary"
   ]
  },
  {
   "cell_type": "code",
   "execution_count": 22,
   "metadata": {},
   "outputs": [
    {
     "name": "stdout",
     "output_type": "stream",
     "text": [
      "Generating combined layer for misc measurement points!\n",
      "Topography layer generated using orography and canopy height.\n",
      "Correct latitudinal zone!\n",
      "Correct longitudinal zone!\n",
      "Station 1 of 1\n",
      "Station 1 of 1\n",
      "Station 1 of 1\n",
      "Station 1 of 1\n",
      "Station 1 of 1\n",
      "Station 1 of 1\n",
      "Station 1 of 1\n",
      "Station 1 of 1\n",
      "Station 1 of 1\n",
      "Station 1 of 1\n",
      "Station 1 of 1\n",
      "Station 1 of 1\n"
     ]
    }
   ],
   "source": [
    "layout.generate_combined_layer(points_type = 'misc')"
   ]
  },
  {
   "cell_type": "code",
   "execution_count": 3,
   "metadata": {},
   "outputs": [],
   "source": [
    "layout.generate_mesh(points_type = 'misc')"
   ]
  },
  {
   "cell_type": "code",
   "execution_count": null,
   "metadata": {},
   "outputs": [],
   "source": []
  },
  {
   "cell_type": "code",
   "execution_count": null,
   "metadata": {},
   "outputs": [],
   "source": []
  },
  {
   "cell_type": "code",
   "execution_count": null,
   "metadata": {},
   "outputs": [],
   "source": [
    "layout.plot_layer(layout.layer_selector('combined'), \n",
    "                  title = 'Lidar placement map' , \n",
    "                  legend_label = 'Reachable points []')"
   ]
  },
  {
   "cell_type": "code",
   "execution_count": null,
   "metadata": {},
   "outputs": [],
   "source": [
    "def plot_layer(self, layer, **kwargs):\n",
    "    \"\"\"\n",
    "    Plots individual GIS layers.\n",
    "\n",
    "    Parameters\n",
    "    ----------\n",
    "    layer : ndarray\n",
    "        nD array containing data with `float` or `int` type \n",
    "        corresponding to a specific GIS layer.\n",
    "    **kwargs : see below\n",
    "\n",
    "    Keyword Arguments\n",
    "    -----------------\n",
    "    title : str\n",
    "        The plot title.\n",
    "    legend_label : str\n",
    "        The legend label indicating what parameter is plotted.\n",
    "    levels : ndarray\n",
    "        Predetermined levels for the plotted parameter.\n",
    "    save_plot : bool\n",
    "        Indicating whether to save the plot as PDF.\n",
    "    input_type : str\n",
    "\n",
    "\n",
    "    Returns\n",
    "    -------\n",
    "    plot : matplotlib\n",
    "\n",
    "    Examples\n",
    "    --------\n",
    "    >>> layout.plot_GIS_layer(layout.orography_layer, levels = np.array(range(0,510,10)), title = 'Orography', legend_label = 'Height asl [m]' , save_plot = True)\n",
    "\n",
    "    \"\"\"\n",
    "    if 'levels' in kwargs:\n",
    "        levels = kwargs['levels']\n",
    "    else:\n",
    "        levels = np.linspace(np.min(layer), np.max(layer), 20)\n",
    "\n",
    "    if len(layer.shape) > 2:\n",
    "        levels = np.array(range(-1,layer.shape[-1] + 1, 1))\n",
    "        layer = np.sum(layer, axis = 2)\n",
    "\n",
    "    fig, ax = plt.subplots(sharey = True, figsize=(800/self.MY_DPI, 800/self.MY_DPI), dpi=self.MY_DPI)\n",
    "    cmap = plt.cm.RdBu_r\n",
    "    cs = plt.pcolormesh(self.x, self.y, layer, cmap=cmap, alpha = 1)\n",
    "\n",
    "\n",
    "    cbar = plt.colorbar(cs,orientation='vertical', ticks=levels, boundaries=levels,fraction=0.047, pad=0.01)\n",
    "    if 'legend_label' in kwargs:\n",
    "        cbar.set_label(kwargs['legend_label'], fontsize = self.FONT_SIZE)\n",
    "        \n",
    "    \n",
    "    if 'points_type' in kwargs and kwargs['points_type'] in self.POINTS_TYPE:\n",
    "        measurement_pts = self.measurement_type_selector(kwargs['points_type'])\n",
    "    else:\n",
    "        measurement_pts = self.measurement_type_selector(self.measurements_selector)        \n",
    "\n",
    "    if measurement_pts is not None:\n",
    "        for i, pts in enumerate(measurement_pts):\n",
    "            if i == 0:\n",
    "                ax.scatter(pts[0], pts[1], marker='o', \n",
    "                facecolors='yellow', edgecolors='black', \n",
    "                s=80,zorder=1500, label = 'measurements_' + self.measurements_selector)                    \n",
    "            else:\n",
    "                ax.scatter(pts[0], pts[1], marker='o',\n",
    "                facecolors='yellow', edgecolors='black', \n",
    "                s=80,zorder=1500)\n",
    "\n",
    "    if self.reachable_points is not None:\n",
    "        visible_points = measurement_pts[np.where(self.reachable_points>0)]\n",
    "        for i in range(0,len(visible_points)):\n",
    "            if i == 0:\n",
    "                ax.scatter(visible_points[i][0], visible_points[i][1], \n",
    "                        marker='+', color='black', s=80,zorder=2000, label = \"reachable\")\n",
    "            else:\n",
    "                ax.scatter(visible_points[i][0], visible_points[i][1], \n",
    "                        marker='+', color='black', s=80,zorder=2000)\n",
    "\n",
    "    plt.xlabel('Easting [m]', fontsize = self.FONT_SIZE)\n",
    "    plt.ylabel('Northing [m]', fontsize = self.FONT_SIZE)\n",
    "\n",
    "    if 'title' in kwargs:\n",
    "        plt.title(kwargs['title'], fontsize = self.FONT_SIZE)\n",
    "\n",
    "    ax.set_aspect(1.0)\n",
    "\n",
    "    if len(self.lidar_dictionary) > 0:\n",
    "        for i, lidar in enumerate(self.lidar_dictionary):\n",
    "            lidar_pos = self.lidar_dictionary[lidar]['position']\n",
    "            ax.scatter(lidar_pos[0], lidar_pos[1], \n",
    "                       marker='s', \n",
    "                       facecolors=self.COLOR_LIST[i], edgecolors='white',linewidth='2',\n",
    "                       s=100, zorder=2000, label = 'lidar: ' + lidar)\n",
    "\n",
    "    if self.lidar_pos_1 is not None or self.lidar_pos_2 is not None or measurement_pts is not None:\n",
    "        ax.legend(loc='lower right', fontsize = self.FONT_SIZE)    \n",
    "\n",
    "\n",
    "    \n",
    "    plt.show()\n",
    "\n",
    "    if 'title' in kwargs and 'save_plot' in kwargs and kwargs['save_plot']:\n",
    "            fig.savefig(self.OUTPUT_DATA_PATH + kwargs['title'] + '.pdf', bbox_inches='tight')"
   ]
  },
  {
   "cell_type": "code",
   "execution_count": null,
   "metadata": {},
   "outputs": [],
   "source": [
    "layout.NO_DIGITS = 2\n",
    "layout.add_lidar_instance(position = np.array([580600,4845700,100]), lidar_id = 'koshava')\n",
    "layout.add_lidar_instance(position = np.array([580600 - 1000,4845700 - 2000,100]), lidar_id = 'whittle')\n",
    "layout.add_lidar_instance(position = np.array([580600 - 4000,4845700 - 2000,100]), lidar_id = 'sirocco')\n",
    "layout.add_lidar_instance(position = np.array([580600 - 4000,4845700 +2000,100]), lidar_id = 'sterenn')\n",
    "layout.update_lidar_instance(lidar_id = 'koshava')\n",
    "layout.update_lidar_instance(lidar_id = 'sterenn')\n",
    "\n",
    "plot_layer(layout, \n",
    "           layout.layer_selector('combined'), \n",
    "           title = 'Lidar placement map',\n",
    "           legend_label = 'Reachable points []')"
   ]
  },
  {
   "cell_type": "code",
   "execution_count": null,
   "metadata": {},
   "outputs": [],
   "source": [
    "layout.lidar_dictionary['koshava']['probing_coordinates']"
   ]
  },
  {
   "cell_type": "code",
   "execution_count": null,
   "metadata": {},
   "outputs": [],
   "source": [
    "layout.lidar_dictionary['koshava']['motion_config']"
   ]
  },
  {
   "cell_type": "code",
   "execution_count": null,
   "metadata": {},
   "outputs": [],
   "source": [
    "layout.lidar_dictionary['sterenn']['motion_config'].values[:,1:]"
   ]
  },
  {
   "cell_type": "code",
   "execution_count": null,
   "metadata": {},
   "outputs": [],
   "source": [
    "len(points.shape)"
   ]
  },
  {
   "cell_type": "code",
   "execution_count": null,
   "metadata": {},
   "outputs": [],
   "source": [
    "points.shape"
   ]
  },
  {
   "cell_type": "code",
   "execution_count": null,
   "metadata": {},
   "outputs": [],
   "source": []
  }
 ],
 "metadata": {
  "kernelspec": {
   "display_name": "Python 3",
   "language": "python",
   "name": "python3"
  },
  "language_info": {
   "codemirror_mode": {
    "name": "ipython",
    "version": 3
   },
   "file_extension": ".py",
   "mimetype": "text/x-python",
   "name": "python",
   "nbconvert_exporter": "python",
   "pygments_lexer": "ipython3",
   "version": "3.6.5"
  }
 },
 "nbformat": 4,
 "nbformat_minor": 2
}
