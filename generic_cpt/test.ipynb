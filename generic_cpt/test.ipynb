{
 "cells": [
  {
   "cell_type": "code",
   "execution_count": 1,
   "metadata": {},
   "outputs": [],
   "source": [
    "from recast.CPT import CPT\n",
    "import numpy as np\n",
    "import matplotlib.pyplot as plt\n",
    "import matplotlib.colors as mcolors\n",
    "import pandas as pd"
   ]
  },
  {
   "cell_type": "markdown",
   "metadata": {},
   "source": [
    "# Croatian site "
   ]
  },
  {
   "cell_type": "code",
   "execution_count": 2,
   "metadata": {},
   "outputs": [
    {
     "name": "stdout",
     "output_type": "stream",
     "text": [
      "Correct latitudinal zone!\n",
      "Correct longitudinal zone!\n",
      "UTM zone set\n",
      "Measurement points 'misc' added to the measurements dictionary!\n",
      "Measurements dictionary contains 1 different measurement type(s).\n",
      "Correct latitudinal zone!\n",
      "Correct longitudinal zone!\n",
      "Optimizing misc measurement points!\n",
      "Correct latitudinal zone!\n",
      "Correct longitudinal zone!\n",
      "Measurement points 'optimized' added to the measurements dictionary!\n",
      "Measurements dictionary contains 2 different measurement type(s).\n"
     ]
    }
   ],
   "source": [
    "# Sibenik\n",
    "layout = CPT()\n",
    "layout.MESH_EXTENT = 3500\n",
    "layout.AVERAGE_RANGE = 4000\n",
    "layout.LANDCOVER_DATA_PATH = '/Volumes/Secondary_Drive/work/projects/campaign-planning-tool/data/input/landcover/g100_clc12_V18_5.tif'\n",
    "layout.OUTPUT_DATA_PATH = '/Volumes/Secondary_Drive/work/projects/campaign-planning-tool/data/output/'\n",
    "layout.set_utm_zone('33T')\n",
    "layout.MAX_ELEVATION_ANGLE = 7\n",
    "\n",
    "points = np.array([\n",
    "[576697.34, 4845753, 395 + 80],\n",
    "[576968, 4845595, 439 + 80],\n",
    "[577215, 4845425, 423 + 80],\n",
    "[577439, 4845219, 430 + 80],\n",
    "[577752, 4845005, 446 + 80],\n",
    "[577979, 4844819, 478 + 80],\n",
    "[578400, 4844449, 453 + 80],\n",
    "[578658, 4844287, 450 + 80],\n",
    "[578838, 4844034, 430 + 80],\n",
    "[578974, 4843842, 417 + 80],\n",
    "[579121, 4844186, 413 + 80],\n",
    "[579246, 4843915, 410 + 80]\n",
    "])\n",
    "\n",
    "layout.add_measurement_instances(points = points, points_type = 'misc')\n",
    "layout.generate_mesh()\n",
    "layout.optimize_measurements()"
   ]
  },
  {
   "cell_type": "code",
   "execution_count": null,
   "metadata": {},
   "outputs": [],
   "source": [
    "layout.generate_combined_layer(points_type = 'misc')"
   ]
  },
  {
   "cell_type": "code",
   "execution_count": null,
   "metadata": {},
   "outputs": [],
   "source": [
    "layout.plot_layer(layout.layer_selector('combined'), \n",
    "                  title = 'Lidar placement map' , \n",
    "                  legend_label = 'Reachable points []')"
   ]
  },
  {
   "cell_type": "code",
   "execution_count": null,
   "metadata": {},
   "outputs": [],
   "source": [
    "layout.add_lidar_instance(position = np.array([580600 + 350,4845700 + 200,100]), lidar_id = 'koshava')\n",
    "layout.update_lidar_instance(lidar_id = 'koshava', points_type = 'misc')"
   ]
  },
  {
   "cell_type": "code",
   "execution_count": null,
   "metadata": {},
   "outputs": [],
   "source": [
    "layout.generate_second_lidar_layer(lidar_id = 'koshava')"
   ]
  },
  {
   "cell_type": "code",
   "execution_count": null,
   "metadata": {},
   "outputs": [],
   "source": [
    "layout.plot_layer(layout.layer_selector('second_lidar_placement'), \n",
    "                  title = 'Lidar placement map' , \n",
    "                  legend_label = 'Reachable points []')"
   ]
  },
  {
   "cell_type": "code",
   "execution_count": 3,
   "metadata": {},
   "outputs": [
    {
     "name": "stdout",
     "output_type": "stream",
     "text": [
      "Lidar 'koshava' added to the lidar dictionary, which now contains 1 lidar instance(s).\n",
      "Lidar 'whittle' added to the lidar dictionary, which now contains 2 lidar instance(s).\n",
      "Lidar 'sirocco' added to the lidar dictionary, which now contains 3 lidar instance(s).\n",
      "Lidar 'sterenn' added to the lidar dictionary, which now contains 4 lidar instance(s).\n",
      "Updating lidar instance 'koshava' considering measurement type 'misc'.\n",
      "Updating lidar instance 'whittle' considering measurement type 'misc'.\n"
     ]
    }
   ],
   "source": [
    "layout.add_lidar_instance(position = np.array([580600 + 350,4845700 + 200,100]), lidar_id = 'koshava')\n",
    "layout.add_lidar_instance(position = np.array([580800 - 1800,4845300 + 2500, 271]), lidar_id = 'whittle')\n",
    "layout.add_lidar_instance(position = np.array([580600 - 4000,4845700 - 2000,100]), lidar_id = 'sirocco')\n",
    "layout.add_lidar_instance(position = np.array([580600 - 4000,4845700 + 2000,100]), lidar_id = 'sterenn')\n",
    "\n",
    "layout.update_lidar_instance(lidar_id = 'koshava', points_type = 'misc')\n",
    "layout.update_lidar_instance(lidar_id = 'whittle', points_type = 'misc')"
   ]
  },
  {
   "cell_type": "code",
   "execution_count": 4,
   "metadata": {},
   "outputs": [
    {
     "name": "stdout",
     "output_type": "stream",
     "text": [
      "Synchronizing trajectories for lidar instances:['whittle', 'koshava']\n"
     ]
    }
   ],
   "source": [
    "layout.sync_trajectory(lidar_ids = ['whittle', 'koshava'])"
   ]
  },
  {
   "cell_type": "code",
   "execution_count": 5,
   "metadata": {},
   "outputs": [],
   "source": [
    "layout.export_measurement_scenario(lidar_id = 'koshava')"
   ]
  },
  {
   "cell_type": "code",
   "execution_count": null,
   "metadata": {},
   "outputs": [],
   "source": []
  },
  {
   "cell_type": "code",
   "execution_count": null,
   "metadata": {},
   "outputs": [],
   "source": [
    "layout.export_range_gate(lidar_id = 'koshava')"
   ]
  },
  {
   "cell_type": "code",
   "execution_count": null,
   "metadata": {},
   "outputs": [],
   "source": []
  },
  {
   "cell_type": "code",
   "execution_count": null,
   "metadata": {},
   "outputs": [],
   "source": []
  }
 ],
 "metadata": {
  "kernelspec": {
   "display_name": "Python 3",
   "language": "python",
   "name": "python3"
  },
  "language_info": {
   "codemirror_mode": {
    "name": "ipython",
    "version": 3
   },
   "file_extension": ".py",
   "mimetype": "text/x-python",
   "name": "python",
   "nbconvert_exporter": "python",
   "pygments_lexer": "ipython3",
   "version": "3.7.3"
  }
 },
 "nbformat": 4,
 "nbformat_minor": 2
}
